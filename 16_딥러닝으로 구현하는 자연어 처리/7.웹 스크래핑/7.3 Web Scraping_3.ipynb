{
 "cells": [
  {
   "cell_type": "markdown",
   "metadata": {},
   "source": [
    "## 동적 웹 페이지 1"
   ]
  },
  {
   "cell_type": "code",
   "execution_count": 2,
   "metadata": {},
   "outputs": [
    {
     "name": "stdout",
     "output_type": "stream",
     "text": [
      "Collecting selenium\n",
      "  Downloading selenium-3.141.0-py2.py3-none-any.whl (904 kB)\n",
      "Requirement already satisfied: urllib3 in c:\\users\\user\\anaconda3\\lib\\site-packages (from selenium) (1.25.9)\n",
      "Installing collected packages: selenium\n",
      "Successfully installed selenium-3.141.0\n"
     ]
    }
   ],
   "source": [
    "!pip install selenium"
   ]
  },
  {
   "cell_type": "code",
   "execution_count": 10,
   "metadata": {},
   "outputs": [
    {
     "name": "stdout",
     "output_type": "stream",
     "text": [
      "HTML 요소:  <selenium.webdriver.remote.webelement.WebElement (session=\"047365dbb488037337137bcd6e8521f3\", element=\"c81ec010-c8e8-4aaf-8906-ad7249315e6c\")>\n",
      "태그 이름:  a\n",
      "문자열:  로그인\n",
      "href 속성:  https://auth.danawa.com/login?url=http%3A%2F%2Fwww.danawa.com%2F\n"
     ]
    }
   ],
   "source": [
    "from selenium import webdriver \n",
    "\n",
    "driver = webdriver.Chrome(\"chromedriver\") \n",
    "driver.implicitly_wait(3)\n",
    "driver.get(\"https://www.danawa.com/\") \n",
    "\n",
    "login = driver.find_element_by_css_selector('li.my_page_service > a')\n",
    "print(\"HTML 요소: \", login)\n",
    "print(\"태그 이름: \", login.tag_name)\n",
    "print(\"문자열: \", login.text)\n",
    "print(\"href 속성: \", login.get_attribute('href'))\n",
    "\n",
    "login.click()\n",
    "driver.implicitly_wait(3)\n",
    "\n",
    "my_id = \"love1770\"\n",
    "my_pw = \"m9252009$$\"\n",
    "\n",
    "driver.find_element_by_id('danawa-member-login-input-id').send_keys(my_id)\n",
    "driver.implicitly_wait(2)\n",
    "driver.find_element_by_name('password').send_keys(my_pw)\n",
    "driver.implicitly_wait(2)\n",
    "driver.find_element_by_css_selector('button.btn_login').click()"
   ]
  },
  {
   "cell_type": "markdown",
   "metadata": {},
   "source": [
    "## 동적 웹 페이지 2"
   ]
  },
  {
   "cell_type": "code",
   "execution_count": 13,
   "metadata": {},
   "outputs": [
    {
     "name": "stdout",
     "output_type": "stream",
     "text": [
      "삼성전자 970 EVO M.2 NVMe (500GB)\n",
      "99,400원\n",
      "http://prod.danawa.com/info/?pcode=6095784\n",
      "\n",
      "\n",
      "삼성전자 860 EVO (500GB)\n",
      "77,600원\n",
      "http://prod.danawa.com/info/?pcode=5834210\n",
      "\n",
      "\n"
     ]
    }
   ],
   "source": [
    "from selenium import webdriver \n",
    "\n",
    "driver = webdriver.Chrome(\"chromedriver\") \n",
    "driver.implicitly_wait(3)\n",
    "driver.get(\"https://www.danawa.com/\") \n",
    "\n",
    "login = driver.find_element_by_css_selector('li.my_page_service > a')\n",
    "login.click()\n",
    "driver.implicitly_wait(3)\n",
    "\n",
    "my_id = \"love1770\"\n",
    "my_pw = \"m9252009$$\"\n",
    "\n",
    "driver.find_element_by_id('danawa-member-login-input-id').send_keys(my_id)\n",
    "driver.implicitly_wait(2)\n",
    "driver.find_element_by_name('password').send_keys(my_pw)\n",
    "driver.implicitly_wait(2)\n",
    "driver.find_element_by_css_selector('button.btn_login').click()\n",
    "driver.implicitly_wait(2)\n",
    "\n",
    "wishlist = driver.find_element_by_css_selector('li.interest_goods_service > a').click()\n",
    "driver.implicitly_wait(2)\n",
    "html_src = driver.page_source\n",
    "driver.close()\n",
    "# print(html_src[:])\n",
    "\n",
    "from bs4 import BeautifulSoup\n",
    "import re\n",
    "soup = BeautifulSoup(html_src, 'html.parser')\n",
    "#wishProductListArea > table > tbody > tr\n",
    "# wish_table = soup.select('table[class=\"tbl wish_tbl\"]')[0]\n",
    "# wish_items = wish_table.select('tbody tr')\n",
    "\n",
    "wish_items = soup.select('#wishProductListArea > table > tbody > tr')\n",
    "\n",
    "for item in wish_items:\n",
    "    title = item.find('div', {'class':'tit'}).text\n",
    "    price = item.find('span', {'class':'price'}).text\n",
    "    link = item.find('a', href=re.compile('prod.danawa.com/info/')).get('href')\n",
    "    print(title)\n",
    "    print(price)\n",
    "    print(link)\n",
    "    print(\"\\n\")"
   ]
  },
  {
   "cell_type": "markdown",
   "metadata": {},
   "source": [
    "## 한국은행 경제통계시스템 통계지표 활용하기 1"
   ]
  },
  {
   "cell_type": "code",
   "execution_count": 14,
   "metadata": {},
   "outputs": [
    {
     "name": "stdout",
     "output_type": "stream",
     "text": [
      "파일 다운로드 실행...\n"
     ]
    }
   ],
   "source": [
    "from selenium import webdriver \n",
    "import time\n",
    "\n",
    "def download_bok_statistics():\n",
    "\n",
    "    driver = webdriver.Chrome(\"chromedriver\") \n",
    "    driver.implicitly_wait(3)\n",
    "    driver.get(\"http://ecos.bok.or.kr/jsp/vis/keystat/#/key\") \n",
    "    \n",
    "    \n",
    "    excel_download = driver.find_element_by_css_selector('img[alt=\"download\"]')\n",
    "    driver.implicitly_wait(3)\n",
    "    \n",
    "    excel_download.click()\n",
    "    time.sleep(5)\n",
    "    \n",
    "    driver.close()\n",
    "    print(\"파일 다운로드 실행...\")\n",
    "\n",
    "    return None\n",
    "\n",
    "download_bok_statistics()"
   ]
  },
  {
   "cell_type": "markdown",
   "metadata": {},
   "source": [
    "## 한국은행 경제통계시스템 통계지표 활용하기 2"
   ]
  },
  {
   "cell_type": "code",
   "execution_count": 15,
   "metadata": {
    "scrolled": true
   },
   "outputs": [
    {
     "name": "stdout",
     "output_type": "stream",
     "text": [
      "검색할 항목을 입력하세요: CD\n",
      "검색어 'CD'에 매칭되는 'CD수익률(91일) ('20.11.20)' 통계지표를 검색 중...\n",
      "키워드 'CD'에 대한 통계지표를 저장하였습니다.\n",
      "(['2013', '2014', '2015', '2016', '2017', '2018', '2019', '2020.4', '2020.5', '2020.6', '2020.7', '2020.8', '2020.9', '2020.10', '2020.11.13', '2020.11.16', '2020.11.17', '2020.11.18', '2020.11.19', '2020.11.20'], ['2.72', '2.49', '1.76', '1.49', '1.44', '1.68', '1.69', '1.10', '1.02', '0.79', '0.79', '0.68', '0.63', '0.63', '0.66', '0.66', '0.66', '0.66', '0.66', '0.66'], ['-0.58', '-0.23', '-0.73', '-0.27', '-0.05', '0.24', '0.01', '-0.13', '-0.08', '-0.23', '0.00', '-0.11', '-0.05', '0.00', '0.00', '0.00', '0.00', '0.00', '0.00', '0.00'])\n"
     ]
    }
   ],
   "source": [
    "from selenium import webdriver \n",
    "from bs4 import BeautifulSoup\n",
    "import time\n",
    "\n",
    "def download_bok_statistics_by_keyword():\n",
    "    \n",
    "    item_found = 0              \n",
    "    while not item_found:\n",
    "        \n",
    "        keyword = \"\"       \n",
    "        while len(keyword) == 0:\n",
    "            keyword = str(input(\"검색할 항목을 입력하세요: \"))\n",
    "        \n",
    "        driver = webdriver.Chrome(\"chromedriver\")\n",
    "        driver.implicitly_wait(3)\n",
    "        driver.get(\"http://ecos.bok.or.kr/jsp/vis/keystat/#/key\") \n",
    "        time.sleep(5)             \n",
    "                   \n",
    "        items1 = driver.find_elements_by_css_selector('a[class=\"ng-binding\"]')\n",
    "        items2 = driver.find_elements_by_css_selector('a[class=\"a-c1-list ng-binding\"]')\n",
    "        items3 = driver.find_elements_by_css_selector('a[class=\"a-c4-list ng-binding\"]')\n",
    "        driver.implicitly_wait(3)\n",
    "\n",
    "        items = items1[1:] + items2 + items3    \n",
    "        \n",
    "        for idx, item in enumerate(items):\n",
    "            if keyword in item.text:\n",
    "                print(\"검색어 '%s'에 매칭되는 '%s' 통계지표를 검색 중...\" % (keyword, item.text))\n",
    "                item.click()\n",
    "                item_found = 1\n",
    "                time.sleep(5)\n",
    "                break\n",
    "            elif idx == (len(items) - 1):\n",
    "                print(\"검색어 '%s'에 대한 통계지표가 존재하지 않습니다...\" % keyword)\n",
    "                driver.close()\n",
    "                continue\n",
    "            else:\n",
    "                pass\n",
    "            \n",
    "    html_src = driver.page_source\n",
    "    soup = BeautifulSoup(html_src, 'html.parser')\n",
    "    driver.close()\n",
    "  \n",
    "    table_items = soup.find_all('td', {'class':'ng-binding'})\n",
    "    date = [t.text for i, t in enumerate(table_items) if i % 3 == 0]\n",
    "    value = [t.text for i, t in enumerate(table_items) if i % 3 == 1]    \n",
    "    change = [t.text for i, t in enumerate(table_items) if i % 3 == 2]    \n",
    "    \n",
    "    result_file = open('bok_statistics_%s.csv' % keyword, 'w')\n",
    "    \n",
    "    for i in range(len(date)):\n",
    "        result_file.write(\"%s, %s, %s\" % (date[i], value[i], change[i]))\n",
    "        result_file.write('\\n')\n",
    "    \n",
    "    result_file.close()\n",
    "    print(\"키워드 '%s'에 대한 통계지표를 저장하였습니다.\" % keyword)\n",
    "    \n",
    "    return date, value, change\n",
    "\n",
    "result = download_bok_statistics_by_keyword()\n",
    "print(result)"
   ]
  },
  {
   "cell_type": "markdown",
   "metadata": {},
   "source": [
    "###  대중 교통 정보"
   ]
  },
  {
   "cell_type": "markdown",
   "metadata": {},
   "source": [
    "#### https://pay.tmoney.co.kr/\n",
    "이용안내 클릭\n",
    "대중교통 통계자료 클릭\n",
    "\n",
    "driver.find_elements_by_xpath('//*[@id=\"contents\"]/div[1]/table/tbody/tr[1]/td[2]/a/em')"
   ]
  }
 ],
 "metadata": {
  "kernelspec": {
   "display_name": "Python 3",
   "language": "python",
   "name": "python3"
  },
  "language_info": {
   "codemirror_mode": {
    "name": "ipython",
    "version": 3
   },
   "file_extension": ".py",
   "mimetype": "text/x-python",
   "name": "python",
   "nbconvert_exporter": "python",
   "pygments_lexer": "ipython3",
   "version": "3.8.3"
  }
 },
 "nbformat": 4,
 "nbformat_minor": 4
}
