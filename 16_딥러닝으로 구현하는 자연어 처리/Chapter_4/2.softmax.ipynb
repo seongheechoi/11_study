{
 "cells": [
  {
   "cell_type": "code",
   "execution_count": 3,
   "metadata": {},
   "outputs": [
    {
     "name": "stderr",
     "output_type": "stream",
     "text": [
      "<ipython-input-3-faba140f6671>:4: RuntimeWarning: divide by zero encountered in log\n",
      "  y = -np.log(x)\n"
     ]
    },
    {
     "data": {
      "text/plain": [
       "[<matplotlib.lines.Line2D at 0x1e7dd632400>]"
      ]
     },
     "execution_count": 3,
     "metadata": {},
     "output_type": "execute_result"
    },
    {
     "data": {
      "image/png": "[encoded data removed]",
      "text/plain": [
       "<Figure size 432x288 with 1 Axes>"
      ]
     },
     "metadata": {
      "needs_background": "light"
     },
     "output_type": "display_data"
    }
   ],
   "source": [
    "import numpy as np\n",
    "import matplotlib.pyplot as plt\n",
    "x = np.arange( 0, 1.1, 0.01 )\n",
    "y = -np.log(x)\n",
    "plt.ylim(0,5)\n",
    "plt.plot( x, y )"
   ]
  },
  {
   "cell_type": "code",
   "execution_count": 8,
   "metadata": {},
   "outputs": [
    {
     "name": "stdout",
     "output_type": "stream",
     "text": [
      "[[9.0250135  4.01485005 2.33964685]\n",
      " [1.         0.2490753  0.11080316]]\n",
      "[[15.3795104 ]\n",
      " [ 1.35987846]]\n",
      "[[0.5868206  0.26105188 0.15212752]\n",
      " [0.73535983 0.18315997 0.08148019]]\n"
     ]
    }
   ],
   "source": [
    "import numpy as np\n",
    "temp = np.array([[2.20,1.39,0.85],\n",
    "                 [0.00,-1.39,-2.20]])\n",
    "exp_temp = np.exp(temp)\n",
    "print(exp_temp)\n",
    "print(np.sum(exp_temp, axis=1).reshape(-1, 1))\n",
    "ret = exp_temp / np.sum(exp_temp, axis=1).reshape(-1, 1)\n",
    "print( ret )"
   ]
  },
  {
   "cell_type": "code",
   "execution_count": 10,
   "metadata": {},
   "outputs": [],
   "source": [
    "import numpy as np\n",
    "class MultiClassNetwork:\n",
    "    \n",
    "    def __init__(self, units=10, batch_size=32, learning_rate=0.1, l1=0, l2=0):\n",
    "        self.units = units         # 은닉층의 뉴런 개수\n",
    "        self.batch_size = batch_size     # 배치 크기\n",
    "        self.w1 = None             # 은닉층의 가중치\n",
    "        self.b1 = None             # 은닉층의 절편\n",
    "        self.w2 = None             # 출력층의 가중치\n",
    "        self.b2 = None             # 출력층의 절편\n",
    "        self.a1 = None             # 은닉층의 활성화 출력\n",
    "        self.losses = []           # 훈련 손실\n",
    "        self.val_losses = []       # 검증 손실\n",
    "        self.lr = learning_rate    # 학습률\n",
    "        self.l1 = l1               # L1 손실 하이퍼파라미터\n",
    "        self.l2 = l2               # L2 손실 하이퍼파라미터\n",
    "\n",
    "    def forpass(self, x):\n",
    "        z1 = np.dot(x, self.w1) + self.b1        # 첫 번째 층의 선형 식을 계산합니다\n",
    "        self.a1 = self.sigmoid(z1)               # 활성화 함수를 적용합니다\n",
    "        z2 = np.dot(self.a1, self.w2) + self.b2  # 두 번째 층의 선형 식을 계산합니다.\n",
    "        return z2\n",
    "\n",
    "    def backprop(self, x, err):\n",
    "        m = len(x)       # 샘플 개수\n",
    "        # 출력층의 가중치와 절편에 대한 그래디언트를 계산합니다.\n",
    "        w2_grad = np.dot(self.a1.T, err) / m\n",
    "        b2_grad = np.sum(err) / m\n",
    "        # 시그모이드 함수까지 그래디언트를 계산합니다.\n",
    "        err_to_hidden = np.dot(err, self.w2.T) * self.a1 * (1 - self.a1)\n",
    "        # 은닉층의 가중치와 절편에 대한 그래디언트를 계산합니다.\n",
    "        w1_grad = np.dot(x.T, err_to_hidden) / m\n",
    "        b1_grad = np.sum(err_to_hidden, axis=0) / m\n",
    "        return w1_grad, b1_grad, w2_grad, b2_grad\n",
    "    \n",
    "    def sigmoid(self, z):\n",
    "        z = np.clip(z, -100, None)            # 안전한 np.exp() 계산을 위해\n",
    "        a = 1 / (1 + np.exp(-z))              # 시그모이드 계산\n",
    "        return a\n",
    "    \n",
    "    def softmax(self, z):\n",
    "        # 소프트맥스 함수\n",
    "        z = np.clip(z, -100, None)            # 안전한 np.exp() 계산을 위해\n",
    "        exp_z = np.exp(z)\n",
    "        return exp_z / np.sum(exp_z, axis=1).reshape(-1, 1)\n",
    " \n",
    "    def init_weights(self, n_features, n_classes):\n",
    "        self.w1 = np.random.normal(0, 1, \n",
    "                                   (n_features, self.units))  # (특성 개수, 은닉층의 크기)\n",
    "        self.b1 = np.zeros(self.units)                        # 은닉층의 크기\n",
    "        self.w2 = np.random.normal(0, 1, \n",
    "                                   (self.units, n_classes))   # (은닉층의 크기, 클래스 개수)\n",
    "        self.b2 = np.zeros(n_classes)\n",
    "        \n",
    "    def fit(self, x, y, epochs=100, x_val=None, y_val=None):\n",
    "        np.random.seed(42)\n",
    "        self.init_weights(x.shape[1], y.shape[1])    # 은닉층과 출력층의 가중치를 초기화합니다.\n",
    "        # epochs만큼 반복합니다.\n",
    "        for i in range(epochs):\n",
    "            loss = 0\n",
    "            print('.', end='')\n",
    "            # 제너레이터 함수에서 반환한 미니배치를 순환합니다.\n",
    "            for x_batch, y_batch in self.gen_batch(x, y):\n",
    "                a = self.training(x_batch, y_batch)\n",
    "                # 안전한 로그 계산을 위해 클리핑합니다.\n",
    "                a = np.clip(a, 1e-10, 1-1e-10)\n",
    "                # 로그 손실과 규제 손실을 더하여 리스트에 추가합니다.\n",
    "                loss += np.sum(-y_batch*np.log(a))\n",
    "            self.losses.append((loss + self.reg_loss()) / len(x))\n",
    "            # 검증 세트에 대한 손실을 계산합니다.\n",
    "            self.update_val_loss(x_val, y_val)\n",
    "\n",
    "    # 미니배치 제너레이터 함수\n",
    "    def gen_batch(self, x, y):\n",
    "        length = len(x)\n",
    "        bins = length // self.batch_size # 미니배치 횟수\n",
    "        if length % self.batch_size:\n",
    "            bins += 1                    # 나누어 떨어지지 않을 때\n",
    "        indexes = np.random.permutation(np.arange(len(x))) # 인덱스를 섞습니다.\n",
    "        x = x[indexes]\n",
    "        y = y[indexes]\n",
    "        for i in range(bins):\n",
    "            start = self.batch_size * i\n",
    "            end = self.batch_size * (i + 1)\n",
    "            yield x[start:end], y[start:end]   # batch_size만큼 슬라이싱하여 반환합니다.\n",
    "            \n",
    "    def training(self, x, y):\n",
    "        m = len(x)                # 샘플 개수를 저장합니다.\n",
    "        z = self.forpass(x)       # 정방향 계산을 수행합니다.\n",
    "        a = self.softmax(z)       # 활성화 함수를 적용합니다.\n",
    "        err = a - y               # 오차를 계산합니다.\n",
    "        # 오차를 역전파하여 그래디언트를 계산합니다.\n",
    "        w1_grad, b1_grad, w2_grad, b2_grad = self.backprop(x, err)\n",
    "        # 그래디언트에서 페널티 항의 미분 값을 뺍니다\n",
    "        w1_grad += (self.l1 * np.sign(self.w1) + self.l2 * self.w1) / m\n",
    "        w2_grad += (self.l1 * np.sign(self.w2) + self.l2 * self.w2) / m\n",
    "        # 은닉층의 가중치와 절편을 업데이트합니다.\n",
    "        self.w1 -= self.lr * w1_grad\n",
    "        self.b1 -= self.lr * b1_grad\n",
    "        # 출력층의 가중치와 절편을 업데이트합니다.\n",
    "        self.w2 -= self.lr * w2_grad\n",
    "        self.b2 -= self.lr * b2_grad\n",
    "        return a\n",
    "   \n",
    "    def predict(self, x):\n",
    "        z = self.forpass(x)          # 정방향 계산을 수행합니다.\n",
    "        return np.argmax(z, axis=1)  # 가장 큰 값의 인덱스를 반환합니다.\n",
    "    \n",
    "    def score(self, x, y):\n",
    "        # 예측과 타깃 열 벡터를 비교하여 True의 비율을 반환합니다.\n",
    "        return np.mean(self.predict(x) == np.argmax(y, axis=1))\n",
    "\n",
    "    def reg_loss(self):\n",
    "        # 은닉층과 출력층의 가중치에 규제를 적용합니다.\n",
    "        return self.l1 * (np.sum(np.abs(self.w1)) + np.sum(np.abs(self.w2))) + \\\n",
    "               self.l2 / 2 * (np.sum(self.w1**2) + np.sum(self.w2**2))\n",
    "\n",
    "    def update_val_loss(self, x_val, y_val):\n",
    "        z = self.forpass(x_val)            # 정방향 계산을 수행합니다.\n",
    "        a = self.softmax(z)                # 활성화 함수를 적용합니다.\n",
    "        a = np.clip(a, 1e-10, 1-1e-10)     # 출력 값을 클리핑합니다.\n",
    "        # 크로스 엔트로피 손실과 규제 손실을 더하여 리스트에 추가합니다.\n",
    "        val_loss = np.sum(-y_val*np.log(a))\n",
    "        self.val_losses.append((val_loss + self.reg_loss()) / len(y_val))"
   ]
  },
  {
   "cell_type": "code",
   "execution_count": 11,
   "metadata": {},
   "outputs": [
    {
     "data": {
      "text/plain": [
       "'2.3.1'"
      ]
     },
     "execution_count": 11,
     "metadata": {},
     "output_type": "execute_result"
    }
   ],
   "source": [
    "import tensorflow as tf\n",
    "tf.__version__"
   ]
  },
  {
   "cell_type": "code",
   "execution_count": 12,
   "metadata": {},
   "outputs": [
    {
     "name": "stdout",
     "output_type": "stream",
     "text": [
      "Downloading data from https://storage.googleapis.com/tensorflow/tf-keras-datasets/train-labels-idx1-ubyte.gz\n",
      "32768/29515 [=================================] - 0s 0us/step\n",
      "Downloading data from https://storage.googleapis.com/tensorflow/tf-keras-datasets/train-images-idx3-ubyte.gz\n",
      "26427392/26421880 [==============================] - 1s 0us/step\n",
      "Downloading data from https://storage.googleapis.com/tensorflow/tf-keras-datasets/t10k-labels-idx1-ubyte.gz\n",
      "8192/5148 [===============================================] - 0s 0s/step\n",
      "Downloading data from https://storage.googleapis.com/tensorflow/tf-keras-datasets/t10k-images-idx3-ubyte.gz\n",
      "4423680/4422102 [==============================] - 0s 0us/step\n",
      "(60000, 28, 28) (60000,)\n"
     ]
    }
   ],
   "source": [
    "(x_train_all, y_train_all), (x_test, y_test) = tf.keras.datasets.fashion_mnist.load_data()\n",
    "\n",
    "print(x_train_all.shape, y_train_all.shape)\n"
   ]
  },
  {
   "cell_type": "code",
   "execution_count": 16,
   "metadata": {},
   "outputs": [
    {
     "data": {
      "image/png": "[encoded data removed]",
      "text/plain": [
       "<Figure size 432x288 with 1 Axes>"
      ]
     },
     "metadata": {
      "needs_background": "light"
     },
     "output_type": "display_data"
    }
   ],
   "source": [
    "import matplotlib.pyplot as plt\n",
    "#print(x_train_all[0])\n",
    "plt.imshow(x_train_all[3], cmap='gray')\n",
    "plt.show()"
   ]
  },
  {
   "cell_type": "code",
   "execution_count": 14,
   "metadata": {
    "scrolled": true
   },
   "outputs": [
    {
     "name": "stdout",
     "output_type": "stream",
     "text": [
      "[9 0 0 3 0 2 7 2 5 5]\n"
     ]
    }
   ],
   "source": [
    "print(y_train_all[:10])"
   ]
  },
  {
   "cell_type": "code",
   "execution_count": 14,
   "metadata": {},
   "outputs": [],
   "source": [
    "class_names = ['티셔츠/윗도리', '바지', '스웨터', '드레스', '코트', \n",
    "               '샌들', '셔츠', '스니커즈', '가방', '앵클부츠']"
   ]
  },
  {
   "cell_type": "code",
   "execution_count": 15,
   "metadata": {},
   "outputs": [
    {
     "name": "stdout",
     "output_type": "stream",
     "text": [
      "앵클부츠\n"
     ]
    }
   ],
   "source": [
    "print(class_names[y_train_all[0]])"
   ]
  },
  {
   "cell_type": "code",
   "execution_count": 18,
   "metadata": {},
   "outputs": [
    {
     "data": {
      "text/plain": [
       "array([0, 2, 2, 3], dtype=int64)"
      ]
     },
     "execution_count": 18,
     "metadata": {},
     "output_type": "execute_result"
    }
   ],
   "source": [
    "temp = np.array([1,1,3,2,2,3,3])\n",
    "np.bincount(temp)"
   ]
  },
  {
   "cell_type": "code",
   "execution_count": 19,
   "metadata": {},
   "outputs": [
    {
     "data": {
      "text/plain": [
       "array([6000, 6000, 6000, 6000, 6000, 6000, 6000, 6000, 6000, 6000],\n",
       "      dtype=int64)"
      ]
     },
     "execution_count": 19,
     "metadata": {},
     "output_type": "execute_result"
    }
   ],
   "source": [
    "np.bincount(y_train_all)"
   ]
  },
  {
   "cell_type": "code",
   "execution_count": 20,
   "metadata": {},
   "outputs": [],
   "source": [
    "from sklearn.model_selection import train_test_split"
   ]
  },
  {
   "cell_type": "code",
   "execution_count": 21,
   "metadata": {},
   "outputs": [],
   "source": [
    "x_train, x_val, y_train, y_val = train_test_split(x_train_all, y_train_all, stratify=y_train_all, \n",
    "                                                  test_size=0.2, random_state=42)"
   ]
  },
  {
   "cell_type": "code",
   "execution_count": 24,
   "metadata": {},
   "outputs": [
    {
     "data": {
      "text/plain": [
       "array([4800, 4800, 4800, 4800, 4800, 4800, 4800, 4800, 4800, 4800],\n",
       "      dtype=int64)"
      ]
     },
     "execution_count": 24,
     "metadata": {},
     "output_type": "execute_result"
    }
   ],
   "source": [
    "np.bincount(y_train)"
   ]
  },
  {
   "cell_type": "code",
   "execution_count": 27,
   "metadata": {},
   "outputs": [
    {
     "data": {
      "text/plain": [
       "array([1200, 1200, 1200, 1200, 1200, 1200, 1200, 1200, 1200, 1200],\n",
       "      dtype=int64)"
      ]
     },
     "execution_count": 27,
     "metadata": {},
     "output_type": "execute_result"
    }
   ],
   "source": [
    "np.bincount(y_val)"
   ]
  },
  {
   "cell_type": "code",
   "execution_count": 28,
   "metadata": {},
   "outputs": [],
   "source": [
    "x_train = x_train / 255\n",
    "x_val = x_val / 255"
   ]
  },
  {
   "cell_type": "code",
   "execution_count": 29,
   "metadata": {},
   "outputs": [],
   "source": [
    "x_train = x_train.reshape(-1, 784)\n",
    "x_val = x_val.reshape(-1, 784)"
   ]
  },
  {
   "cell_type": "code",
   "execution_count": 30,
   "metadata": {},
   "outputs": [
    {
     "name": "stdout",
     "output_type": "stream",
     "text": [
      "(48000, 784) (12000, 784)\n"
     ]
    }
   ],
   "source": [
    "print(x_train.shape, x_val.shape)"
   ]
  },
  {
   "cell_type": "code",
   "execution_count": 16,
   "metadata": {},
   "outputs": [
    {
     "data": {
      "text/plain": [
       "array([[1, 0, 0],\n",
       "       [0, 1, 0],\n",
       "       [0, 0, 1],\n",
       "       [0, 1, 0]])"
      ]
     },
     "execution_count": 16,
     "metadata": {},
     "output_type": "execute_result"
    }
   ],
   "source": [
    "from sklearn.preprocessing import LabelBinarizer\n",
    "lb = LabelBinarizer()\n",
    "lb.fit_transform([0, 1, 3, 1])"
   ]
  },
  {
   "cell_type": "code",
   "execution_count": 31,
   "metadata": {},
   "outputs": [
    {
     "data": {
      "text/plain": [
       "array([[1., 0., 0., 0.],\n",
       "       [0., 1., 0., 0.],\n",
       "       [0., 0., 0., 1.]], dtype=float32)"
      ]
     },
     "execution_count": 31,
     "metadata": {},
     "output_type": "execute_result"
    }
   ],
   "source": [
    "tf.keras.utils.to_categorical([0, 1, 3])"
   ]
  },
  {
   "cell_type": "code",
   "execution_count": 32,
   "metadata": {},
   "outputs": [],
   "source": [
    "y_train_encoded = tf.keras.utils.to_categorical(y_train)\n",
    "y_val_encoded = tf.keras.utils.to_categorical(y_val)"
   ]
  },
  {
   "cell_type": "code",
   "execution_count": 34,
   "metadata": {},
   "outputs": [
    {
     "name": "stdout",
     "output_type": "stream",
     "text": [
      "(48000, 10) (12000, 10)\n"
     ]
    }
   ],
   "source": [
    "print(y_train_encoded.shape, y_val_encoded.shape)"
   ]
  },
  {
   "cell_type": "code",
   "execution_count": 36,
   "metadata": {},
   "outputs": [
    {
     "name": "stdout",
     "output_type": "stream",
     "text": [
      "6 [0. 0. 0. 0. 0. 0. 1. 0. 0. 0.]\n"
     ]
    }
   ],
   "source": [
    "print(y_train[0], y_train_encoded[0])"
   ]
  },
  {
   "cell_type": "code",
   "execution_count": 37,
   "metadata": {},
   "outputs": [
    {
     "name": "stdout",
     "output_type": "stream",
     "text": [
      "........................................"
     ]
    }
   ],
   "source": [
    "fc = MultiClassNetwork(units=100, batch_size=256)\n",
    "fc.fit(x_train, y_train_encoded, \n",
    "       x_val=x_val, y_val=y_val_encoded, epochs=40)"
   ]
  },
  {
   "cell_type": "code",
   "execution_count": 22,
   "metadata": {},
   "outputs": [
    {
     "data": {
      "image/png": "[encoded data removed]",
      "text/plain": [
       "<Figure size 432x288 with 1 Axes>"
      ]
     },
     "metadata": {
      "needs_background": "light"
     },
     "output_type": "display_data"
    }
   ],
   "source": [
    "plt.plot(fc.losses)\n",
    "plt.plot(fc.val_losses)\n",
    "plt.ylabel('loss')\n",
    "plt.xlabel('iteration')\n",
    "plt.legend(['train_loss', 'val_loss'])\n",
    "plt.show()"
   ]
  },
  {
   "cell_type": "code",
   "execution_count": 23,
   "metadata": {},
   "outputs": [],
   "source": [
    "from tensorflow.keras import Sequential\n",
    "from tensorflow.keras.layers import Dense"
   ]
  },
  {
   "cell_type": "code",
   "execution_count": 24,
   "metadata": {},
   "outputs": [],
   "source": [
    "model = Sequential()\n",
    "model.add(Dense(100, activation='sigmoid', input_shape=(784,)))\n",
    "model.add(Dense(10, activation='softmax'))"
   ]
  },
  {
   "cell_type": "code",
   "execution_count": 25,
   "metadata": {},
   "outputs": [],
   "source": [
    "model.compile(optimizer='sgd', loss='categorical_crossentropy',\n",
    "              metrics=['accuracy'])"
   ]
  },
  {
   "cell_type": "code",
   "execution_count": 26,
   "metadata": {},
   "outputs": [
    {
     "name": "stdout",
     "output_type": "stream",
     "text": [
      "Train on 48000 samples, validate on 12000 samples\n",
      "Epoch 1/40\n",
      "48000/48000 [==============================] - 2s 46us/sample - loss: 1.3943 - accuracy: 0.6366 - val_loss: 0.9752 - val_accuracy: 0.7273\n",
      "Epoch 2/40\n",
      "48000/48000 [==============================] - 2s 37us/sample - loss: 0.8521 - accuracy: 0.7414 - val_loss: 0.7588 - val_accuracy: 0.7589\n",
      "Epoch 3/40\n",
      "48000/48000 [==============================] - 2s 37us/sample - loss: 0.7168 - accuracy: 0.7641 - val_loss: 0.6686 - val_accuracy: 0.7801\n",
      "Epoch 4/40\n",
      "48000/48000 [==============================] - 2s 39us/sample - loss: 0.6495 - accuracy: 0.7800 - val_loss: 0.6163 - val_accuracy: 0.7909\n",
      "Epoch 5/40\n",
      "48000/48000 [==============================] - 2s 36us/sample - loss: 0.6069 - accuracy: 0.7933 - val_loss: 0.5785 - val_accuracy: 0.8039\n",
      "Epoch 6/40\n",
      "48000/48000 [==============================] - 2s 38us/sample - loss: 0.5762 - accuracy: 0.8034 - val_loss: 0.5539 - val_accuracy: 0.8098\n",
      "Epoch 7/40\n",
      "48000/48000 [==============================] - 2s 37us/sample - loss: 0.5529 - accuracy: 0.8102 - val_loss: 0.5325 - val_accuracy: 0.8166\n",
      "Epoch 8/40\n",
      "48000/48000 [==============================] - 2s 40us/sample - loss: 0.5347 - accuracy: 0.8161 - val_loss: 0.5162 - val_accuracy: 0.8214\n",
      "Epoch 9/40\n",
      "48000/48000 [==============================] - 2s 37us/sample - loss: 0.5200 - accuracy: 0.8207 - val_loss: 0.5022 - val_accuracy: 0.8246\n",
      "Epoch 10/40\n",
      "48000/48000 [==============================] - 2s 37us/sample - loss: 0.5075 - accuracy: 0.8247 - val_loss: 0.4905 - val_accuracy: 0.8282\n",
      "Epoch 11/40\n",
      "48000/48000 [==============================] - 2s 39us/sample - loss: 0.4972 - accuracy: 0.8278 - val_loss: 0.4820 - val_accuracy: 0.8308\n",
      "Epoch 12/40\n",
      "48000/48000 [==============================] - 2s 37us/sample - loss: 0.4884 - accuracy: 0.8304 - val_loss: 0.4733 - val_accuracy: 0.8332\n",
      "Epoch 13/40\n",
      "48000/48000 [==============================] - 2s 39us/sample - loss: 0.4804 - accuracy: 0.8329 - val_loss: 0.4684 - val_accuracy: 0.8333\n",
      "Epoch 14/40\n",
      "48000/48000 [==============================] - 2s 40us/sample - loss: 0.4733 - accuracy: 0.8350 - val_loss: 0.4590 - val_accuracy: 0.8366\n",
      "Epoch 15/40\n",
      "48000/48000 [==============================] - 2s 40us/sample - loss: 0.4668 - accuracy: 0.8368 - val_loss: 0.4531 - val_accuracy: 0.8399\n",
      "Epoch 16/40\n",
      "48000/48000 [==============================] - 2s 38us/sample - loss: 0.4612 - accuracy: 0.8390 - val_loss: 0.4498 - val_accuracy: 0.8430\n",
      "Epoch 17/40\n",
      "48000/48000 [==============================] - 2s 38us/sample - loss: 0.4556 - accuracy: 0.8406 - val_loss: 0.4456 - val_accuracy: 0.8422\n",
      "Epoch 18/40\n",
      "48000/48000 [==============================] - 2s 39us/sample - loss: 0.4509 - accuracy: 0.8417 - val_loss: 0.4383 - val_accuracy: 0.8451\n",
      "Epoch 19/40\n",
      "48000/48000 [==============================] - 2s 37us/sample - loss: 0.4461 - accuracy: 0.8436 - val_loss: 0.4404 - val_accuracy: 0.8412\n",
      "Epoch 20/40\n",
      "48000/48000 [==============================] - 2s 38us/sample - loss: 0.4421 - accuracy: 0.8450 - val_loss: 0.4320 - val_accuracy: 0.8457\n",
      "Epoch 21/40\n",
      "48000/48000 [==============================] - 2s 36us/sample - loss: 0.4382 - accuracy: 0.8465 - val_loss: 0.4282 - val_accuracy: 0.8469\n",
      "Epoch 22/40\n",
      "48000/48000 [==============================] - 2s 37us/sample - loss: 0.4346 - accuracy: 0.8480 - val_loss: 0.4241 - val_accuracy: 0.8492\n",
      "Epoch 23/40\n",
      "48000/48000 [==============================] - 2s 36us/sample - loss: 0.4310 - accuracy: 0.8478 - val_loss: 0.4212 - val_accuracy: 0.8516\n",
      "Epoch 24/40\n",
      "48000/48000 [==============================] - 2s 37us/sample - loss: 0.4277 - accuracy: 0.8491 - val_loss: 0.4188 - val_accuracy: 0.8526\n",
      "Epoch 25/40\n",
      "48000/48000 [==============================] - 2s 39us/sample - loss: 0.4243 - accuracy: 0.8508 - val_loss: 0.4162 - val_accuracy: 0.8520\n",
      "Epoch 26/40\n",
      "48000/48000 [==============================] - 2s 37us/sample - loss: 0.4215 - accuracy: 0.8524 - val_loss: 0.4123 - val_accuracy: 0.8557\n",
      "Epoch 27/40\n",
      "48000/48000 [==============================] - 2s 38us/sample - loss: 0.4187 - accuracy: 0.8524 - val_loss: 0.4123 - val_accuracy: 0.8547\n",
      "Epoch 28/40\n",
      "48000/48000 [==============================] - 2s 38us/sample - loss: 0.4161 - accuracy: 0.8536 - val_loss: 0.4084 - val_accuracy: 0.8572\n",
      "Epoch 29/40\n",
      "48000/48000 [==============================] - 2s 38us/sample - loss: 0.4134 - accuracy: 0.8545 - val_loss: 0.4063 - val_accuracy: 0.8570\n",
      "Epoch 30/40\n",
      "48000/48000 [==============================] - 2s 36us/sample - loss: 0.4108 - accuracy: 0.8547 - val_loss: 0.4044 - val_accuracy: 0.8577\n",
      "Epoch 31/40\n",
      "48000/48000 [==============================] - 2s 38us/sample - loss: 0.4084 - accuracy: 0.8551 - val_loss: 0.4029 - val_accuracy: 0.8585\n",
      "Epoch 32/40\n",
      "48000/48000 [==============================] - 2s 40us/sample - loss: 0.4062 - accuracy: 0.8568 - val_loss: 0.4017 - val_accuracy: 0.8574\n",
      "Epoch 33/40\n",
      "48000/48000 [==============================] - 2s 36us/sample - loss: 0.4035 - accuracy: 0.8567 - val_loss: 0.3989 - val_accuracy: 0.8587\n",
      "Epoch 34/40\n",
      "48000/48000 [==============================] - 2s 37us/sample - loss: 0.4015 - accuracy: 0.8579 - val_loss: 0.3971 - val_accuracy: 0.8589\n",
      "Epoch 35/40\n",
      "48000/48000 [==============================] - 2s 36us/sample - loss: 0.3995 - accuracy: 0.8587 - val_loss: 0.3950 - val_accuracy: 0.8617\n",
      "Epoch 36/40\n",
      "48000/48000 [==============================] - 2s 39us/sample - loss: 0.3973 - accuracy: 0.8588 - val_loss: 0.3938 - val_accuracy: 0.8618\n",
      "Epoch 37/40\n",
      "48000/48000 [==============================] - 2s 37us/sample - loss: 0.3954 - accuracy: 0.8596 - val_loss: 0.3923 - val_accuracy: 0.8617\n",
      "Epoch 38/40\n",
      "48000/48000 [==============================] - 2s 38us/sample - loss: 0.3938 - accuracy: 0.8602 - val_loss: 0.3913 - val_accuracy: 0.8614\n",
      "Epoch 39/40\n",
      "48000/48000 [==============================] - 2s 37us/sample - loss: 0.3916 - accuracy: 0.8610 - val_loss: 0.3890 - val_accuracy: 0.8618\n",
      "Epoch 40/40\n",
      "48000/48000 [==============================] - 2s 38us/sample - loss: 0.3896 - accuracy: 0.8618 - val_loss: 0.3870 - val_accuracy: 0.8623\n"
     ]
    }
   ],
   "source": [
    "history = model.fit(x_train, y_train_encoded, epochs=40, \n",
    "                    validation_data=(x_val, y_val_encoded))"
   ]
  },
  {
   "cell_type": "code",
   "execution_count": 27,
   "metadata": {},
   "outputs": [
    {
     "name": "stdout",
     "output_type": "stream",
     "text": [
      "dict_keys(['loss', 'accuracy', 'val_loss', 'val_accuracy'])\n"
     ]
    }
   ],
   "source": [
    "print(history.history.keys())"
   ]
  },
  {
   "cell_type": "code",
   "execution_count": 28,
   "metadata": {},
   "outputs": [
    {
     "data": {
      "image/png": "[encoded data removed]",
      "text/plain": [
       "<Figure size 432x288 with 1 Axes>"
      ]
     },
     "metadata": {
      "needs_background": "light"
     },
     "output_type": "display_data"
    }
   ],
   "source": [
    "plt.plot(history.history['loss'])\n",
    "plt.plot(history.history['val_loss'])\n",
    "plt.ylabel('loss')\n",
    "plt.xlabel('epoch')\n",
    "plt.legend(['train_loss', 'val_loss'])\n",
    "plt.show()"
   ]
  },
  {
   "cell_type": "code",
   "execution_count": 29,
   "metadata": {},
   "outputs": [
    {
     "data": {
      "image/png": "[encoded data removed]",
      "text/plain": [
       "<Figure size 432x288 with 1 Axes>"
      ]
     },
     "metadata": {
      "needs_background": "light"
     },
     "output_type": "display_data"
    }
   ],
   "source": [
    "plt.plot(history.history['accuracy'])\n",
    "plt.plot(history.history['val_accuracy'])\n",
    "plt.ylabel('accuracy')\n",
    "plt.xlabel('epoch')\n",
    "plt.legend(['train_accuracy', 'val_accuracy'])\n",
    "plt.show()"
   ]
  },
  {
   "cell_type": "code",
   "execution_count": 30,
   "metadata": {},
   "outputs": [],
   "source": [
    "loss, accuracy = model.evaluate(x_val, y_val_encoded, verbose=0)"
   ]
  },
  {
   "cell_type": "code",
   "execution_count": 31,
   "metadata": {},
   "outputs": [
    {
     "name": "stdout",
     "output_type": "stream",
     "text": [
      "0.86233336\n"
     ]
    }
   ],
   "source": [
    "print(accuracy)"
   ]
  },
  {
   "cell_type": "code",
   "execution_count": null,
   "metadata": {},
   "outputs": [],
   "source": []
  }
 ],
 "metadata": {
  "kernelspec": {
   "display_name": "Python 3",
   "language": "python",
   "name": "python3"
  },
  "language_info": {
   "codemirror_mode": {
    "name": "ipython",
    "version": 3
   },
   "file_extension": ".py",
   "mimetype": "text/x-python",
   "name": "python",
   "nbconvert_exporter": "python",
   "pygments_lexer": "ipython3",
   "version": "3.8.3"
  }
 },
 "nbformat": 4,
 "nbformat_minor": 4
}
