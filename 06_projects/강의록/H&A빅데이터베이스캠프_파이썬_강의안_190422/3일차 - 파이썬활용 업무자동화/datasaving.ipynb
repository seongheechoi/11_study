{
 "cells": [
  {
   "cell_type": "code",
   "execution_count": 40,
   "metadata": {},
   "outputs": [],
   "source": [
    "hellofile = open('hello.txt')\n",
    "hellofile.close()"
   ]
  },
  {
   "cell_type": "code",
   "execution_count": 14,
   "metadata": {},
   "outputs": [
    {
     "data": {
      "text/plain": [
       "'Hello Python\\n'"
      ]
     },
     "execution_count": 14,
     "metadata": {},
     "output_type": "execute_result"
    }
   ],
   "source": [
    "contents = hellofile.read()\n",
    "contents"
   ]
  },
  {
   "cell_type": "code",
   "execution_count": 15,
   "metadata": {},
   "outputs": [],
   "source": [
    "NewFile = open('new.txt', 'w',)\n",
    "NewFile.write('간장공장공장장은간장공장공장장인지간장공장공장이아닌지')\n",
    "NewFile.close()"
   ]
  },
  {
   "cell_type": "code",
   "execution_count": 16,
   "metadata": {},
   "outputs": [],
   "source": [
    "newfile = open('new.txt','a')\n",
    "newfile.write('기린그린그림은기린그린그림인지기린그그린그림은기린그린그림이아닌지')\n",
    "newfile.close()"
   ]
  },
  {
   "cell_type": "code",
   "execution_count": 19,
   "metadata": {},
   "outputs": [
    {
     "data": {
      "text/plain": [
       "'간장공장공장장은간장공장공장장인지간장공장공장이아닌지기린그린그림은기린그린그림인지기린그그린그림은기린그린그림이아닌지'"
      ]
     },
     "execution_count": 19,
     "metadata": {},
     "output_type": "execute_result"
    }
   ],
   "source": [
    "newfile = open('new.txt')\n",
    "contents = newfile.read()\n",
    "contents"
   ]
  },
  {
   "cell_type": "code",
   "execution_count": 20,
   "metadata": {},
   "outputs": [],
   "source": [
    "import os\n",
    "import shutil"
   ]
  },
  {
   "cell_type": "code",
   "execution_count": 22,
   "metadata": {},
   "outputs": [
    {
     "data": {
      "text/plain": [
       "'C:\\\\cr5000\\\\home\\\\H&A빅데이터베이스캠프_파이썬_강의안_190422\\\\3일차 - 파이썬활용 업무자동화'"
      ]
     },
     "execution_count": 22,
     "metadata": {},
     "output_type": "execute_result"
    }
   ],
   "source": [
    "os.getcwd()\n"
   ]
  },
  {
   "cell_type": "code",
   "execution_count": 25,
   "metadata": {},
   "outputs": [],
   "source": [
    "os.chdir('C:\\\\cr5000\\\\home\\\\H&A빅데이터베이스캠프_파이썬_강의안_190422')         "
   ]
  },
  {
   "cell_type": "code",
   "execution_count": 27,
   "metadata": {},
   "outputs": [
    {
     "data": {
      "text/plain": [
       "'C:\\\\cr5000\\\\home\\\\H&A빅데이터베이스캠프_파이썬_강의안_190422'"
      ]
     },
     "execution_count": 27,
     "metadata": {},
     "output_type": "execute_result"
    }
   ],
   "source": [
    "os.getcwd()"
   ]
  },
  {
   "cell_type": "code",
   "execution_count": 30,
   "metadata": {},
   "outputs": [
    {
     "ename": "FileNotFoundError",
     "evalue": "[Errno 2] No such file or directory: 'hello.txt'",
     "output_type": "error",
     "traceback": [
      "\u001b[1;31m---------------------------------------------------------------------------\u001b[0m",
      "\u001b[1;31mFileNotFoundError\u001b[0m                         Traceback (most recent call last)",
      "\u001b[1;32m<ipython-input-30-a6fc1790430e>\u001b[0m in \u001b[0;36m<module>\u001b[1;34m\u001b[0m\n\u001b[0;32m      1\u001b[0m \u001b[1;31m### 복사해서 복사가 되는 파일이름 새롭게 바꾸기\u001b[0m\u001b[1;33m\u001b[0m\u001b[1;33m\u001b[0m\u001b[1;33m\u001b[0m\u001b[0m\n\u001b[0;32m      2\u001b[0m \u001b[1;33m\u001b[0m\u001b[0m\n\u001b[1;32m----> 3\u001b[1;33m \u001b[0mshutil\u001b[0m\u001b[1;33m.\u001b[0m\u001b[0mcopy\u001b[0m\u001b[1;33m(\u001b[0m\u001b[1;34m'hello.txt'\u001b[0m\u001b[1;33m,\u001b[0m \u001b[1;34m'C:\\\\cr5000\\\\home\\\\H&A빅데이터베이스캠프_파이썬_강의안_190422/hello2.txt'\u001b[0m\u001b[1;33m)\u001b[0m\u001b[1;33m\u001b[0m\u001b[1;33m\u001b[0m\u001b[0m\n\u001b[0m",
      "\u001b[1;32mC:\\Users\\Administrator\\AppData\\Local\\Continuum\\anaconda3\\lib\\shutil.py\u001b[0m in \u001b[0;36mcopy\u001b[1;34m(src, dst, follow_symlinks)\u001b[0m\n\u001b[0;32m    243\u001b[0m     \u001b[1;32mif\u001b[0m \u001b[0mos\u001b[0m\u001b[1;33m.\u001b[0m\u001b[0mpath\u001b[0m\u001b[1;33m.\u001b[0m\u001b[0misdir\u001b[0m\u001b[1;33m(\u001b[0m\u001b[0mdst\u001b[0m\u001b[1;33m)\u001b[0m\u001b[1;33m:\u001b[0m\u001b[1;33m\u001b[0m\u001b[1;33m\u001b[0m\u001b[0m\n\u001b[0;32m    244\u001b[0m         \u001b[0mdst\u001b[0m \u001b[1;33m=\u001b[0m \u001b[0mos\u001b[0m\u001b[1;33m.\u001b[0m\u001b[0mpath\u001b[0m\u001b[1;33m.\u001b[0m\u001b[0mjoin\u001b[0m\u001b[1;33m(\u001b[0m\u001b[0mdst\u001b[0m\u001b[1;33m,\u001b[0m \u001b[0mos\u001b[0m\u001b[1;33m.\u001b[0m\u001b[0mpath\u001b[0m\u001b[1;33m.\u001b[0m\u001b[0mbasename\u001b[0m\u001b[1;33m(\u001b[0m\u001b[0msrc\u001b[0m\u001b[1;33m)\u001b[0m\u001b[1;33m)\u001b[0m\u001b[1;33m\u001b[0m\u001b[1;33m\u001b[0m\u001b[0m\n\u001b[1;32m--> 245\u001b[1;33m     \u001b[0mcopyfile\u001b[0m\u001b[1;33m(\u001b[0m\u001b[0msrc\u001b[0m\u001b[1;33m,\u001b[0m \u001b[0mdst\u001b[0m\u001b[1;33m,\u001b[0m \u001b[0mfollow_symlinks\u001b[0m\u001b[1;33m=\u001b[0m\u001b[0mfollow_symlinks\u001b[0m\u001b[1;33m)\u001b[0m\u001b[1;33m\u001b[0m\u001b[1;33m\u001b[0m\u001b[0m\n\u001b[0m\u001b[0;32m    246\u001b[0m     \u001b[0mcopymode\u001b[0m\u001b[1;33m(\u001b[0m\u001b[0msrc\u001b[0m\u001b[1;33m,\u001b[0m \u001b[0mdst\u001b[0m\u001b[1;33m,\u001b[0m \u001b[0mfollow_symlinks\u001b[0m\u001b[1;33m=\u001b[0m\u001b[0mfollow_symlinks\u001b[0m\u001b[1;33m)\u001b[0m\u001b[1;33m\u001b[0m\u001b[1;33m\u001b[0m\u001b[0m\n\u001b[0;32m    247\u001b[0m     \u001b[1;32mreturn\u001b[0m \u001b[0mdst\u001b[0m\u001b[1;33m\u001b[0m\u001b[1;33m\u001b[0m\u001b[0m\n",
      "\u001b[1;32mC:\\Users\\Administrator\\AppData\\Local\\Continuum\\anaconda3\\lib\\shutil.py\u001b[0m in \u001b[0;36mcopyfile\u001b[1;34m(src, dst, follow_symlinks)\u001b[0m\n\u001b[0;32m    118\u001b[0m         \u001b[0mos\u001b[0m\u001b[1;33m.\u001b[0m\u001b[0msymlink\u001b[0m\u001b[1;33m(\u001b[0m\u001b[0mos\u001b[0m\u001b[1;33m.\u001b[0m\u001b[0mreadlink\u001b[0m\u001b[1;33m(\u001b[0m\u001b[0msrc\u001b[0m\u001b[1;33m)\u001b[0m\u001b[1;33m,\u001b[0m \u001b[0mdst\u001b[0m\u001b[1;33m)\u001b[0m\u001b[1;33m\u001b[0m\u001b[1;33m\u001b[0m\u001b[0m\n\u001b[0;32m    119\u001b[0m     \u001b[1;32melse\u001b[0m\u001b[1;33m:\u001b[0m\u001b[1;33m\u001b[0m\u001b[1;33m\u001b[0m\u001b[0m\n\u001b[1;32m--> 120\u001b[1;33m         \u001b[1;32mwith\u001b[0m \u001b[0mopen\u001b[0m\u001b[1;33m(\u001b[0m\u001b[0msrc\u001b[0m\u001b[1;33m,\u001b[0m \u001b[1;34m'rb'\u001b[0m\u001b[1;33m)\u001b[0m \u001b[1;32mas\u001b[0m \u001b[0mfsrc\u001b[0m\u001b[1;33m:\u001b[0m\u001b[1;33m\u001b[0m\u001b[1;33m\u001b[0m\u001b[0m\n\u001b[0m\u001b[0;32m    121\u001b[0m             \u001b[1;32mwith\u001b[0m \u001b[0mopen\u001b[0m\u001b[1;33m(\u001b[0m\u001b[0mdst\u001b[0m\u001b[1;33m,\u001b[0m \u001b[1;34m'wb'\u001b[0m\u001b[1;33m)\u001b[0m \u001b[1;32mas\u001b[0m \u001b[0mfdst\u001b[0m\u001b[1;33m:\u001b[0m\u001b[1;33m\u001b[0m\u001b[1;33m\u001b[0m\u001b[0m\n\u001b[0;32m    122\u001b[0m                 \u001b[0mcopyfileobj\u001b[0m\u001b[1;33m(\u001b[0m\u001b[0mfsrc\u001b[0m\u001b[1;33m,\u001b[0m \u001b[0mfdst\u001b[0m\u001b[1;33m)\u001b[0m\u001b[1;33m\u001b[0m\u001b[1;33m\u001b[0m\u001b[0m\n",
      "\u001b[1;31mFileNotFoundError\u001b[0m: [Errno 2] No such file or directory: 'hello.txt'"
     ]
    }
   ],
   "source": [
    "### 복사해서 복사가 되는 파일이름 새롭게 바꾸기\n",
    "\n",
    "shutil.copy('hello.txt', 'C:\\\\cr5000\\\\home\\\\H&A빅데이터베이스캠프_파이썬_강의안_190422/hello2.txt')"
   ]
  },
  {
   "cell_type": "code",
   "execution_count": 33,
   "metadata": {},
   "outputs": [
    {
     "ename": "FileNotFoundError",
     "evalue": "[WinError 3] 지정된 경로를 찾을 수 없습니다: '/cr5000/home/LG2019 강의안V2/1일차 - 파이썬 기초/data'",
     "output_type": "error",
     "traceback": [
      "\u001b[1;31m---------------------------------------------------------------------------\u001b[0m",
      "\u001b[1;31mFileNotFoundError\u001b[0m                         Traceback (most recent call last)",
      "\u001b[1;32m<ipython-input-33-f05219e2c21b>\u001b[0m in \u001b[0;36m<module>\u001b[1;34m\u001b[0m\n\u001b[0;32m      1\u001b[0m \u001b[1;33m\u001b[0m\u001b[0m\n\u001b[1;32m----> 2\u001b[1;33m \u001b[0mshutil\u001b[0m\u001b[1;33m.\u001b[0m\u001b[0mcopytree\u001b[0m\u001b[1;33m(\u001b[0m\u001b[1;34m'/cr5000/home/LG2019 강의안V2/1일차 - 파이썬 기초/data'\u001b[0m\u001b[1;33m,\u001b[0m \u001b[1;34m'/cr5000/home/LG2019 강의안V2/2일차 - 파이썬활용 데이터 분석/data_backup'\u001b[0m\u001b[1;33m)\u001b[0m\u001b[1;33m\u001b[0m\u001b[1;33m\u001b[0m\u001b[0m\n\u001b[0m",
      "\u001b[1;32mC:\\Users\\Administrator\\AppData\\Local\\Continuum\\anaconda3\\lib\\shutil.py\u001b[0m in \u001b[0;36mcopytree\u001b[1;34m(src, dst, symlinks, ignore, copy_function, ignore_dangling_symlinks)\u001b[0m\n\u001b[0;32m    313\u001b[0m \u001b[1;33m\u001b[0m\u001b[0m\n\u001b[0;32m    314\u001b[0m     \"\"\"\n\u001b[1;32m--> 315\u001b[1;33m     \u001b[0mnames\u001b[0m \u001b[1;33m=\u001b[0m \u001b[0mos\u001b[0m\u001b[1;33m.\u001b[0m\u001b[0mlistdir\u001b[0m\u001b[1;33m(\u001b[0m\u001b[0msrc\u001b[0m\u001b[1;33m)\u001b[0m\u001b[1;33m\u001b[0m\u001b[1;33m\u001b[0m\u001b[0m\n\u001b[0m\u001b[0;32m    316\u001b[0m     \u001b[1;32mif\u001b[0m \u001b[0mignore\u001b[0m \u001b[1;32mis\u001b[0m \u001b[1;32mnot\u001b[0m \u001b[1;32mNone\u001b[0m\u001b[1;33m:\u001b[0m\u001b[1;33m\u001b[0m\u001b[1;33m\u001b[0m\u001b[0m\n\u001b[0;32m    317\u001b[0m         \u001b[0mignored_names\u001b[0m \u001b[1;33m=\u001b[0m \u001b[0mignore\u001b[0m\u001b[1;33m(\u001b[0m\u001b[0msrc\u001b[0m\u001b[1;33m,\u001b[0m \u001b[0mnames\u001b[0m\u001b[1;33m)\u001b[0m\u001b[1;33m\u001b[0m\u001b[1;33m\u001b[0m\u001b[0m\n",
      "\u001b[1;31mFileNotFoundError\u001b[0m: [WinError 3] 지정된 경로를 찾을 수 없습니다: '/cr5000/home/LG2019 강의안V2/1일차 - 파이썬 기초/data'"
     ]
    }
   ],
   "source": [
    "\n",
    "shutil.copytree('/cr5000/home/LG2019 강의안V2/1일차 - 파이썬 기초/data', '/cr5000/home/LG2019 강의안V2/2일차 - 파이썬활용 데이터 분석/data_backup')"
   ]
  },
  {
   "cell_type": "code",
   "execution_count": 36,
   "metadata": {},
   "outputs": [],
   "source": [
    "os.chdir('C:\\\\cr5000\\\\home\\\\H&A빅데이터베이스캠프_파이썬_강의안_190422\\\\3일차 - 파이썬활용 업무자동화')    \n",
    "#shutil.move('hello.txt')"
   ]
  },
  {
   "cell_type": "code",
   "execution_count": 42,
   "metadata": {},
   "outputs": [
    {
     "ename": "Error",
     "evalue": "Destination path 'C:\\cr5000\\home\\H&A빅데이터베이스캠프_파이썬_강의안_190422\\1일차 - 파이썬 기초\\hello.txt' already exists",
     "output_type": "error",
     "traceback": [
      "\u001b[1;31m---------------------------------------------------------------------------\u001b[0m",
      "\u001b[1;31mError\u001b[0m                                     Traceback (most recent call last)",
      "\u001b[1;32m<ipython-input-42-0aa8f0d95eea>\u001b[0m in \u001b[0;36m<module>\u001b[1;34m\u001b[0m\n\u001b[1;32m----> 1\u001b[1;33m \u001b[0mshutil\u001b[0m\u001b[1;33m.\u001b[0m\u001b[0mmove\u001b[0m\u001b[1;33m(\u001b[0m\u001b[1;34m'C:\\\\cr5000\\\\home\\\\H&A빅데이터베이스캠프_파이썬_강의안_190422\\\\3일차 - 파이썬활용 업무자동화\\\\hello.txt'\u001b[0m\u001b[1;33m,\u001b[0m\u001b[1;34m'C:\\\\cr5000\\\\home\\\\H&A빅데이터베이스캠프_파이썬_강의안_190422\\\\1일차 - 파이썬 기초'\u001b[0m\u001b[1;33m)\u001b[0m\u001b[1;33m\u001b[0m\u001b[1;33m\u001b[0m\u001b[0m\n\u001b[0m",
      "\u001b[1;32mC:\\Users\\Administrator\\AppData\\Local\\Continuum\\anaconda3\\lib\\shutil.py\u001b[0m in \u001b[0;36mmove\u001b[1;34m(src, dst, copy_function)\u001b[0m\n\u001b[0;32m    559\u001b[0m         \u001b[0mreal_dst\u001b[0m \u001b[1;33m=\u001b[0m \u001b[0mos\u001b[0m\u001b[1;33m.\u001b[0m\u001b[0mpath\u001b[0m\u001b[1;33m.\u001b[0m\u001b[0mjoin\u001b[0m\u001b[1;33m(\u001b[0m\u001b[0mdst\u001b[0m\u001b[1;33m,\u001b[0m \u001b[0m_basename\u001b[0m\u001b[1;33m(\u001b[0m\u001b[0msrc\u001b[0m\u001b[1;33m)\u001b[0m\u001b[1;33m)\u001b[0m\u001b[1;33m\u001b[0m\u001b[1;33m\u001b[0m\u001b[0m\n\u001b[0;32m    560\u001b[0m         \u001b[1;32mif\u001b[0m \u001b[0mos\u001b[0m\u001b[1;33m.\u001b[0m\u001b[0mpath\u001b[0m\u001b[1;33m.\u001b[0m\u001b[0mexists\u001b[0m\u001b[1;33m(\u001b[0m\u001b[0mreal_dst\u001b[0m\u001b[1;33m)\u001b[0m\u001b[1;33m:\u001b[0m\u001b[1;33m\u001b[0m\u001b[1;33m\u001b[0m\u001b[0m\n\u001b[1;32m--> 561\u001b[1;33m             \u001b[1;32mraise\u001b[0m \u001b[0mError\u001b[0m\u001b[1;33m(\u001b[0m\u001b[1;34m\"Destination path '%s' already exists\"\u001b[0m \u001b[1;33m%\u001b[0m \u001b[0mreal_dst\u001b[0m\u001b[1;33m)\u001b[0m\u001b[1;33m\u001b[0m\u001b[1;33m\u001b[0m\u001b[0m\n\u001b[0m\u001b[0;32m    562\u001b[0m     \u001b[1;32mtry\u001b[0m\u001b[1;33m:\u001b[0m\u001b[1;33m\u001b[0m\u001b[1;33m\u001b[0m\u001b[0m\n\u001b[0;32m    563\u001b[0m         \u001b[0mos\u001b[0m\u001b[1;33m.\u001b[0m\u001b[0mrename\u001b[0m\u001b[1;33m(\u001b[0m\u001b[0msrc\u001b[0m\u001b[1;33m,\u001b[0m \u001b[0mreal_dst\u001b[0m\u001b[1;33m)\u001b[0m\u001b[1;33m\u001b[0m\u001b[1;33m\u001b[0m\u001b[0m\n",
      "\u001b[1;31mError\u001b[0m: Destination path 'C:\\cr5000\\home\\H&A빅데이터베이스캠프_파이썬_강의안_190422\\1일차 - 파이썬 기초\\hello.txt' already exists"
     ]
    }
   ],
   "source": [
    "shutil.move('C:\\\\cr5000\\\\home\\\\H&A빅데이터베이스캠프_파이썬_강의안_190422\\\\3일차 - 파이썬활용 업무자동화\\\\hello.txt','C:\\\\cr5000\\\\home\\\\H&A빅데이터베이스캠프_파이썬_강의안_190422\\\\1일차 - 파이썬 기초')"
   ]
  },
  {
   "cell_type": "code",
   "execution_count": 44,
   "metadata": {},
   "outputs": [],
   "source": [
    "for i in os.listdir():\n",
    "    if i.endswith('.rxt'):\n",
    "        print(i)"
   ]
  },
  {
   "cell_type": "code",
   "execution_count": 46,
   "metadata": {},
   "outputs": [],
   "source": [
    "import send2trash"
   ]
  },
  {
   "cell_type": "code",
   "execution_count": 48,
   "metadata": {},
   "outputs": [
    {
     "data": {
      "text/plain": [
       "20"
      ]
     },
     "execution_count": 48,
     "metadata": {},
     "output_type": "execute_result"
    }
   ],
   "source": [
    "test = open('class.txt','a')\n",
    "test.write('파일 지우기를 위한 테스트파일입니다.')"
   ]
  },
  {
   "cell_type": "code",
   "execution_count": 50,
   "metadata": {},
   "outputs": [],
   "source": [
    "test.close()"
   ]
  },
  {
   "cell_type": "code",
   "execution_count": 52,
   "metadata": {},
   "outputs": [],
   "source": [
    "send2trash.send2trash('class.txt')"
   ]
  },
  {
   "cell_type": "code",
   "execution_count": 54,
   "metadata": {},
   "outputs": [],
   "source": [
    "### 디렉토리 트리 돌아다니기\n",
    "import os\n"
   ]
  },
  {
   "cell_type": "code",
   "execution_count": 61,
   "metadata": {},
   "outputs": [
    {
     "name": "stdout",
     "output_type": "stream",
     "text": [
      "현재폴더는 C:\\cr5000\\home\\H&A빅데이터베이스캠프_파이썬_강의안_190422\\1일차 - 파이썬 기초\n",
      "하위폴더는C:\\cr5000\\home\\H&A빅데이터베이스캠프_파이썬_강의안_190422\\1일차 - 파이썬 기초.ipynb_checkpoints\n",
      "하위폴더는C:\\cr5000\\home\\H&A빅데이터베이스캠프_파이썬_강의안_190422\\1일차 - 파이썬 기초3일차 - 파이썬활용 업무자동화\n",
      "하위폴더는C:\\cr5000\\home\\H&A빅데이터베이스캠프_파이썬_강의안_190422\\1일차 - 파이썬 기초data\n",
      "하위폴더는C:\\cr5000\\home\\H&A빅데이터베이스캠프_파이썬_강의안_190422\\1일차 - 파이썬 기초data_backup\n",
      "\n",
      "현재폴더는 C:\\cr5000\\home\\H&A빅데이터베이스캠프_파이썬_강의안_190422\\1일차 - 파이썬 기초\\.ipynb_checkpoints\n",
      "\n",
      "현재폴더는 C:\\cr5000\\home\\H&A빅데이터베이스캠프_파이썬_강의안_190422\\1일차 - 파이썬 기초\\3일차 - 파이썬활용 업무자동화\n",
      "하위폴더는C:\\cr5000\\home\\H&A빅데이터베이스캠프_파이썬_강의안_190422\\1일차 - 파이썬 기초\\3일차 - 파이썬활용 업무자동화.ipynb_checkpoints\n",
      "하위폴더는C:\\cr5000\\home\\H&A빅데이터베이스캠프_파이썬_강의안_190422\\1일차 - 파이썬 기초\\3일차 - 파이썬활용 업무자동화data\n",
      "하위폴더는C:\\cr5000\\home\\H&A빅데이터베이스캠프_파이썬_강의안_190422\\1일차 - 파이썬 기초\\3일차 - 파이썬활용 업무자동화done\n",
      "하위폴더는C:\\cr5000\\home\\H&A빅데이터베이스캠프_파이썬_강의안_190422\\1일차 - 파이썬 기초\\3일차 - 파이썬활용 업무자동화train\n",
      "폴더속 파일이름은C:\\cr5000\\home\\H&A빅데이터베이스캠프_파이썬_강의안_190422\\1일차 - 파이썬 기초\\3일차 - 파이썬활용 업무자동화comma_delimited_stock_prices.csv\n",
      "폴더속 파일이름은C:\\cr5000\\home\\H&A빅데이터베이스캠프_파이썬_강의안_190422\\1일차 - 파이썬 기초\\3일차 - 파이썬활용 업무자동화output1.csv\n",
      "폴더속 파일이름은C:\\cr5000\\home\\H&A빅데이터베이스캠프_파이썬_강의안_190422\\1일차 - 파이썬 기초\\3일차 - 파이썬활용 업무자동화output2.csv\n",
      "폴더속 파일이름은C:\\cr5000\\home\\H&A빅데이터베이스캠프_파이썬_강의안_190422\\1일차 - 파이썬 기초\\3일차 - 파이썬활용 업무자동화pandas_output.csv\n",
      "폴더속 파일이름은C:\\cr5000\\home\\H&A빅데이터베이스캠프_파이썬_강의안_190422\\1일차 - 파이썬 기초\\3일차 - 파이썬활용 업무자동화sales_february_2014.csv\n",
      "폴더속 파일이름은C:\\cr5000\\home\\H&A빅데이터베이스캠프_파이썬_강의안_190422\\1일차 - 파이썬 기초\\3일차 - 파이썬활용 업무자동화sales_january_2014.csv\n",
      "폴더속 파일이름은C:\\cr5000\\home\\H&A빅데이터베이스캠프_파이썬_강의안_190422\\1일차 - 파이썬 기초\\3일차 - 파이썬활용 업무자동화sales_march_2014.csv\n",
      "폴더속 파일이름은C:\\cr5000\\home\\H&A빅데이터베이스캠프_파이썬_강의안_190422\\1일차 - 파이썬 기초\\3일차 - 파이썬활용 업무자동화supplier_data.csv\n",
      "폴더속 파일이름은C:\\cr5000\\home\\H&A빅데이터베이스캠프_파이썬_강의안_190422\\1일차 - 파이썬 기초\\3일차 - 파이썬활용 업무자동화supplier_data_no_header_row.csv\n",
      "폴더속 파일이름은C:\\cr5000\\home\\H&A빅데이터베이스캠프_파이썬_강의안_190422\\1일차 - 파이썬 기초\\3일차 - 파이썬활용 업무자동화supplier_data_unnecessary_header_footer.csv\n",
      "폴더속 파일이름은C:\\cr5000\\home\\H&A빅데이터베이스캠프_파이썬_강의안_190422\\1일차 - 파이썬 기초\\3일차 - 파이썬활용 업무자동화winequality-red.csv\n",
      "폴더속 파일이름은C:\\cr5000\\home\\H&A빅데이터베이스캠프_파이썬_강의안_190422\\1일차 - 파이썬 기초\\3일차 - 파이썬활용 업무자동화winequality-white.csv\n",
      "폴더속 파일이름은C:\\cr5000\\home\\H&A빅데이터베이스캠프_파이썬_강의안_190422\\1일차 - 파이썬 기초\\3일차 - 파이썬활용 업무자동화winequality_both.csv\n",
      "\n",
      "현재폴더는 C:\\cr5000\\home\\H&A빅데이터베이스캠프_파이썬_강의안_190422\\1일차 - 파이썬 기초\\3일차 - 파이썬활용 업무자동화\\.ipynb_checkpoints\n",
      "\n",
      "현재폴더는 C:\\cr5000\\home\\H&A빅데이터베이스캠프_파이썬_강의안_190422\\1일차 - 파이썬 기초\\3일차 - 파이썬활용 업무자동화\\data\n",
      "폴더속 파일이름은C:\\cr5000\\home\\H&A빅데이터베이스캠프_파이썬_강의안_190422\\1일차 - 파이썬 기초\\3일차 - 파이썬활용 업무자동화\\dataAdvertising.csv\n",
      "폴더속 파일이름은C:\\cr5000\\home\\H&A빅데이터베이스캠프_파이썬_강의안_190422\\1일차 - 파이썬 기초\\3일차 - 파이썬활용 업무자동화\\databiketest.csv\n",
      "폴더속 파일이름은C:\\cr5000\\home\\H&A빅데이터베이스캠프_파이썬_강의안_190422\\1일차 - 파이썬 기초\\3일차 - 파이썬활용 업무자동화\\databiketrain.csv\n",
      "폴더속 파일이름은C:\\cr5000\\home\\H&A빅데이터베이스캠프_파이썬_강의안_190422\\1일차 - 파이썬 기초\\3일차 - 파이썬활용 업무자동화\\datagender_submission.csv\n",
      "폴더속 파일이름은C:\\cr5000\\home\\H&A빅데이터베이스캠프_파이썬_강의안_190422\\1일차 - 파이썬 기초\\3일차 - 파이썬활용 업무자동화\\datasampleSubmission.csv\n",
      "폴더속 파일이름은C:\\cr5000\\home\\H&A빅데이터베이스캠프_파이썬_강의안_190422\\1일차 - 파이썬 기초\\3일차 - 파이썬활용 업무자동화\\datatitanic_test.csv\n",
      "폴더속 파일이름은C:\\cr5000\\home\\H&A빅데이터베이스캠프_파이썬_강의안_190422\\1일차 - 파이썬 기초\\3일차 - 파이썬활용 업무자동화\\datatitanic_train.csv\n",
      "\n",
      "현재폴더는 C:\\cr5000\\home\\H&A빅데이터베이스캠프_파이썬_강의안_190422\\1일차 - 파이썬 기초\\3일차 - 파이썬활용 업무자동화\\done\n",
      "\n",
      "현재폴더는 C:\\cr5000\\home\\H&A빅데이터베이스캠프_파이썬_강의안_190422\\1일차 - 파이썬 기초\\3일차 - 파이썬활용 업무자동화\\train\n",
      "\n",
      "현재폴더는 C:\\cr5000\\home\\H&A빅데이터베이스캠프_파이썬_강의안_190422\\1일차 - 파이썬 기초\\data\n",
      "하위폴더는C:\\cr5000\\home\\H&A빅데이터베이스캠프_파이썬_강의안_190422\\1일차 - 파이썬 기초\\data.ipynb_checkpoints\n",
      "폴더속 파일이름은C:\\cr5000\\home\\H&A빅데이터베이스캠프_파이썬_강의안_190422\\1일차 - 파이썬 기초\\datacsv_mindex.csv\n",
      "폴더속 파일이름은C:\\cr5000\\home\\H&A빅데이터베이스캠프_파이썬_강의안_190422\\1일차 - 파이썬 기초\\dataex1.csv\n",
      "폴더속 파일이름은C:\\cr5000\\home\\H&A빅데이터베이스캠프_파이썬_강의안_190422\\1일차 - 파이썬 기초\\dataex2.csv\n",
      "폴더속 파일이름은C:\\cr5000\\home\\H&A빅데이터베이스캠프_파이썬_강의안_190422\\1일차 - 파이썬 기초\\dataex3.csv\n",
      "폴더속 파일이름은C:\\cr5000\\home\\H&A빅데이터베이스캠프_파이썬_강의안_190422\\1일차 - 파이썬 기초\\dataex4.csv\n",
      "폴더속 파일이름은C:\\cr5000\\home\\H&A빅데이터베이스캠프_파이썬_강의안_190422\\1일차 - 파이썬 기초\\dataex5.csv\n",
      "폴더속 파일이름은C:\\cr5000\\home\\H&A빅데이터베이스캠프_파이썬_강의안_190422\\1일차 - 파이썬 기초\\dataex6.csv\n",
      "폴더속 파일이름은C:\\cr5000\\home\\H&A빅데이터베이스캠프_파이썬_강의안_190422\\1일차 - 파이썬 기초\\dataex7.csv\n",
      "폴더속 파일이름은C:\\cr5000\\home\\H&A빅데이터베이스캠프_파이썬_강의안_190422\\1일차 - 파이썬 기초\\dataout.csv\n",
      "\n",
      "현재폴더는 C:\\cr5000\\home\\H&A빅데이터베이스캠프_파이썬_강의안_190422\\1일차 - 파이썬 기초\\data\\.ipynb_checkpoints\n",
      "\n",
      "현재폴더는 C:\\cr5000\\home\\H&A빅데이터베이스캠프_파이썬_강의안_190422\\1일차 - 파이썬 기초\\data_backup\n",
      "폴더속 파일이름은C:\\cr5000\\home\\H&A빅데이터베이스캠프_파이썬_강의안_190422\\1일차 - 파이썬 기초\\data_backupcsv_mindex.csv\n",
      "폴더속 파일이름은C:\\cr5000\\home\\H&A빅데이터베이스캠프_파이썬_강의안_190422\\1일차 - 파이썬 기초\\data_backupex1.csv\n",
      "폴더속 파일이름은C:\\cr5000\\home\\H&A빅데이터베이스캠프_파이썬_강의안_190422\\1일차 - 파이썬 기초\\data_backupex2.csv\n",
      "폴더속 파일이름은C:\\cr5000\\home\\H&A빅데이터베이스캠프_파이썬_강의안_190422\\1일차 - 파이썬 기초\\data_backupex3.csv\n",
      "폴더속 파일이름은C:\\cr5000\\home\\H&A빅데이터베이스캠프_파이썬_강의안_190422\\1일차 - 파이썬 기초\\data_backupex4.csv\n",
      "폴더속 파일이름은C:\\cr5000\\home\\H&A빅데이터베이스캠프_파이썬_강의안_190422\\1일차 - 파이썬 기초\\data_backupex5.csv\n",
      "폴더속 파일이름은C:\\cr5000\\home\\H&A빅데이터베이스캠프_파이썬_강의안_190422\\1일차 - 파이썬 기초\\data_backupex6.csv\n",
      "폴더속 파일이름은C:\\cr5000\\home\\H&A빅데이터베이스캠프_파이썬_강의안_190422\\1일차 - 파이썬 기초\\data_backupex7.csv\n",
      "폴더속 파일이름은C:\\cr5000\\home\\H&A빅데이터베이스캠프_파이썬_강의안_190422\\1일차 - 파이썬 기초\\data_backupout.csv\n",
      "\n"
     ]
    }
   ],
   "source": [
    "for foldername, subfolders, filenames in os.walk('C:\\\\cr5000\\\\home\\\\H&A빅데이터베이스캠프_파이썬_강의안_190422\\\\1일차 - 파이썬 기초'):\n",
    "    print('현재폴더는 ' + foldername)\n",
    "    for subfolder in subfolders:\n",
    "        print('하위폴더는' + foldername + subfolder)\n",
    "    for filenames in filenames:\n",
    "        if filenames.endswith('.csv'):\n",
    "            print('폴더속 파일이름은' + foldername + filenames)\n",
    "    print('')"
   ]
  },
  {
   "cell_type": "code",
   "execution_count": 72,
   "metadata": {},
   "outputs": [
    {
     "name": "stdout",
     "output_type": "stream",
     "text": [
      "1\n",
      "C:\\cr5000\\home\\H&A빅데이터베이스캠프_파이썬_강의안_190422\\1일차 - 파이썬 기초\n",
      "['.ipynb_checkpoints', '3일차 - 파이썬활용 업무자동화', 'data', 'data_backup']\n",
      "['1일차 오전(1) 쥬피터실습.ipynb', '1일차 오전(2) 파이썬의 다양한 활용과 프로그래밍 기초.ipynb', '1일차 오전(3) 파이썬기초문법 - 기초연산.ipynb', '1일차 오전(4) 파이썬 기초문법 - 조건문, 함수.ipynb', '1일차 오후(1) - Numpy 맛보기.ipynb', '1일차 오후(2) - Pandas 맛보기.ipynb', '1일차 오후(3) - NUMPY기반 기본통계.ipynb', 'hello.txt', 'hello2.txt', 'hellowV2.txt', 'mydata.sqlite']\n",
      "\n",
      "2\n",
      "C:\\cr5000\\home\\H&A빅데이터베이스캠프_파이썬_강의안_190422\\1일차 - 파이썬 기초\\.ipynb_checkpoints\n",
      "[]\n",
      "['1일차 오전(1) 쥬피터실습-checkpoint.ipynb', '1일차 오전(2) 파이썬의 다양한 활용과 프로그래밍 기초-checkpoint.ipynb', '1일차 오전(3) 파이썬기초문법 - 기초연산-checkpoint.ipynb', '1일차 오전(4) 파이썬 기초문법 - 조건문, 함수-checkpoint.ipynb', '1일차 오후(1) - Numpy 맛보기-checkpoint.ipynb', '1일차 오후(2) - Pandas 맛보기-checkpoint.ipynb', '1일차 오후(3) - NUMPY기반 기본통계-checkpoint.ipynb']\n",
      "\n",
      "3\n",
      "C:\\cr5000\\home\\H&A빅데이터베이스캠프_파이썬_강의안_190422\\1일차 - 파이썬 기초\\3일차 - 파이썬활용 업무자동화\n",
      "['.ipynb_checkpoints', 'data', 'done', 'train']\n",
      "['3일차 오전(1) -  데이터 시각화 기초.ipynb', '3일차 오전(2) - 데이터 시각화 실전 (판다스를 활용한 그래프).ipynb', '3일차 오전(3) - 데이터분석실습 - 와인 품질 데이터.ipynb', '3일차 오후(1) -  업무자동화실습(1) 파이썬으로 파일 체계화하기.ipynb', '3일차 오후(2) - 업무자동화실습(2) 스프레드시트 값 한번에 업데이트하기.ipynb', '3일차 오후(3) - 업무자동화실습(3) 데이터분할.ipynb', '3일차 오후(4) - 파이썬기반 엑셀데이터처리 자동화.ipynb', 'comma_delimited_stock_prices.csv', 'datasaving.ipynb', 'duesRecords.xlsx', 'foo.pdf', 'hello.txt', 'mydata.sqlite', 'new.txt', 'NewFile.txt', 'output1.csv', 'output2.csv', 'output_file3', 'pandas_output.csv', 'produceSales.xlsx', 'sales_february_2014.csv', 'sales_january_2014.csv', 'sales_march_2014.csv', 'supplier_data.csv', 'supplier_data_no_header_row.csv', 'supplier_data_unnecessary_header_footer.csv', 'updatedProduceSales.xlsx', 'winequality-red.csv', 'winequality-white.csv', 'winequality_both.csv']\n",
      "\n",
      "4\n",
      "C:\\cr5000\\home\\H&A빅데이터베이스캠프_파이썬_강의안_190422\\1일차 - 파이썬 기초\\3일차 - 파이썬활용 업무자동화\\.ipynb_checkpoints\n",
      "[]\n",
      "['3일차 오전(1) -  데이터 시각화 기초-checkpoint.ipynb', '3일차 오전(2) - 데이터 시각화 실전 (판다스를 활용한 그래프)-checkpoint.ipynb', '3일차 오전(3) - 데이터분석실습 - 와인 품질 데이터-checkpoint.ipynb', '3일차 오후(1) -  업무자동화실습(1) 파이썬으로 파일 체계화하기-checkpoint.ipynb', '3일차 오후(2) - 업무자동화실습(2) 스프레드시트 값 한번에 업데이트하기-checkpoint.ipynb', '3일차 오후(3) - 업무자동화실습(3) 데이터분할-checkpoint.ipynb', '3일차 오후(4) - 파이썬기반 엑셀데이터처리 자동화-checkpoint.ipynb', 'datasaving-checkpoint.ipynb']\n",
      "\n",
      "5\n",
      "C:\\cr5000\\home\\H&A빅데이터베이스캠프_파이썬_강의안_190422\\1일차 - 파이썬 기초\\3일차 - 파이썬활용 업무자동화\\data\n",
      "[]\n",
      "['Advertising.csv', 'biketest.csv', 'biketrain.csv', 'gender_submission.csv', 'sampleSubmission.csv', 'titanic_test.csv', 'titanic_train.csv']\n",
      "\n",
      "6\n",
      "C:\\cr5000\\home\\H&A빅데이터베이스캠프_파이썬_강의안_190422\\1일차 - 파이썬 기초\\3일차 - 파이썬활용 업무자동화\\done\n",
      "[]\n",
      "[]\n",
      "\n",
      "7\n",
      "C:\\cr5000\\home\\H&A빅데이터베이스캠프_파이썬_강의안_190422\\1일차 - 파이썬 기초\\3일차 - 파이썬활용 업무자동화\\train\n",
      "[]\n",
      "[]\n",
      "\n",
      "8\n",
      "C:\\cr5000\\home\\H&A빅데이터베이스캠프_파이썬_강의안_190422\\1일차 - 파이썬 기초\\data\n",
      "['.ipynb_checkpoints']\n",
      "['csv_mindex.csv', 'ex1.csv', 'ex2.csv', 'ex3.csv', 'ex3.txt', 'ex4.csv', 'ex5.csv', 'ex6.csv', 'ex7.csv', 'example.json', 'fdic_failed_bank_list.html', 'frame_pickle', 'out.csv']\n",
      "\n",
      "9\n",
      "C:\\cr5000\\home\\H&A빅데이터베이스캠프_파이썬_강의안_190422\\1일차 - 파이썬 기초\\data\\.ipynb_checkpoints\n",
      "[]\n",
      "[]\n",
      "\n",
      "10\n",
      "C:\\cr5000\\home\\H&A빅데이터베이스캠프_파이썬_강의안_190422\\1일차 - 파이썬 기초\\data_backup\n",
      "[]\n",
      "['csv_mindex.csv', 'ex1.csv', 'ex2.csv', 'ex3.csv', 'ex3.txt', 'ex4.csv', 'ex5.csv', 'ex6.csv', 'ex7.csv', 'example.json', 'fdic_failed_bank_list.html', 'out.csv', 'yahoo_price.pkl', 'yahoo_volume.pkl']\n",
      "\n"
     ]
    }
   ],
   "source": [
    "i = 0\n",
    "for foldername, subfolders, filenames in os.walk('C:\\\\cr5000\\\\home\\\\H&A빅데이터베이스캠프_파이썬_강의안_190422\\\\1일차 - 파이썬 기초'):\n",
    "#print(foldername)\n",
    "\n",
    "#print(subfolders)\n",
    "\n",
    "#print(filenames)\n",
    "    \n",
    "    i += 1\n",
    "    print(i)\n",
    "    print(foldername)\n",
    "    print(subfolders)\n",
    "    print(filenames)\n",
    "    print('')"
   ]
  },
  {
   "cell_type": "code",
   "execution_count": 85,
   "metadata": {},
   "outputs": [],
   "source": [
    "### zipfile모듈 사용하기\n",
    "\n",
    "import zipfile\n",
    "new = zipfile.ZipFile('hello.zip','a')\n",
    "new.write('hello2.txt', compress_type = zipfile.ZIP_DEFLATED)\n",
    "new.close()"
   ]
  },
  {
   "cell_type": "code",
   "execution_count": 86,
   "metadata": {},
   "outputs": [
    {
     "data": {
      "text/plain": [
       "['hello.txt', 'hello2.txt']"
      ]
     },
     "execution_count": 86,
     "metadata": {},
     "output_type": "execute_result"
    }
   ],
   "source": [
    "example = zipfile.ZipFile('hello.zip')\n",
    "example.namelist()"
   ]
  },
  {
   "cell_type": "code",
   "execution_count": 84,
   "metadata": {},
   "outputs": [],
   "source": [
    "example = zipfile.ZipFile('hello.zip')\n",
    "example.extractall()\n",
    "example.close()"
   ]
  },
  {
   "cell_type": "code",
   "execution_count": null,
   "metadata": {},
   "outputs": [],
   "source": []
  }
 ],
 "metadata": {
  "kernelspec": {
   "display_name": "Python 3",
   "language": "python",
   "name": "python3"
  },
  "language_info": {
   "codemirror_mode": {
    "name": "ipython",
    "version": 3
   },
   "file_extension": ".py",
   "mimetype": "text/x-python",
   "name": "python",
   "nbconvert_exporter": "python",
   "pygments_lexer": "ipython3",
   "version": "3.7.3"
  }
 },
 "nbformat": 4,
 "nbformat_minor": 2
}
