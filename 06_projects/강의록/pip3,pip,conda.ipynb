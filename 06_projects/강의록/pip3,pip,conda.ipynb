{
 "cells": [
  {
   "cell_type": "markdown",
   "metadata": {},
   "source": [
    "# pip3? pip? 및 conda 내 pip 정리 "
   ]
  },
  {
   "cell_type": "markdown",
   "metadata": {},
   "source": [
    "pip 로 뭐 설치할 때마다 헷갈리던거 이번 글에서 한 번에 정리해보려고 한다.\n",
    "먼저, 내 컴퓨터에는 anaconda와, python2, 3 모두 깔려있는 상태다."
   ]
  },
  {
   "cell_type": "markdown",
   "metadata": {},
   "source": [
    "1. pip vs pip3"
   ]
  },
  {
   "cell_type": "markdown",
   "metadata": {},
   "source": [
    "이 링크 pip or pip3 to install packages for Python 3? 를 보면, 알 수 있는데, 정리하면 다음과 같다.\n",
    "\n",
    "터미널에서 다음과 같이 명령어를 치면 pip와 pip2, pip3 가 실제로 어디에 설치되어있는지 알 수 있다."
   ]
  },
  {
   "cell_type": "markdown",
   "metadata": {},
   "source": [
    "$ ls -l `which pip` \n",
    "-rwxrwxr-x 1 heumsi staff 234 3 26 18:25 /Users/heumsi/anaconda3/bin/pip \n",
    "$ ls -l `which pip2` \n",
    "lrwxr-xr-x 1 heumsi admin 34 5 13 19:49 /usr/local/bin/pip2 -> ../Cellar/python@2/2.7.16/bin/pip2 \n",
    "$ ls -l `which pip3` \n",
    "lrwxr-xr-x 1 heumsi admin 33 3 19 20:49 /usr/local/bin/pip3 -> ../Cellar/python/3.7.2_2/bin/pip3"
   ]
  },
  {
   "cell_type": "markdown",
   "metadata": {},
   "source": [
    "살펴보면, 그냥 pip라고 할 경우, anaconda3 에서 관리하고 있는 전역 pip에 들어가게 된다.\n",
    "pip2 의 경우, local 내에 깔린 pip2 (python2 버전) 에 들어가게 된다.\n",
    "pip3 의 경우, local 내에 깔린 pip3 (python3 버전) 에 들어가게 된다.\n"
   ]
  },
  {
   "cell_type": "markdown",
   "metadata": {},
   "source": [
    "2. conda 내에서 pip install"
   ]
  },
  {
   "cell_type": "markdown",
   "metadata": {},
   "source": [
    "anaconda 로 다음과 같은 가상 환경을 만든 후, 들어갔다고 해보자."
   ]
  },
  {
   "cell_type": "markdown",
   "metadata": {},
   "source": [
    "$ conda create -n py36 python=3.6 \n",
    "... \n",
    "$ source activate py36 \n",
    "$ (py36) ~"
   ]
  },
  {
   "cell_type": "markdown",
   "metadata": {},
   "source": [
    "이렇게 진입한 콘다 가상환경 안에서 pip 명령어의 차이를 보면,"
   ]
  },
  {
   "cell_type": "markdown",
   "metadata": {},
   "source": [
    "$ ls -l `which pip` -rwxrwxr-x 1 heumsi staff 244 3 26 18:27 /Users/heumsi/anaconda3/envs/py36/bin/pip $ ls -l `which pip2` lrwxr-xr-x 1 heumsi admin 34 5 13 19:49 /usr/local/bin/pip2 -> ../Cellar/python@2/2.7.16/bin/pip2 $ ls -l `which pip3` lrwxr-xr-x 1 heumsi admin 33 3 19 20:49 /usr/local/bin/pip3 -> ../Cellar/python/3.7.2_2/bin/pip3"
   ]
  },
  {
   "cell_type": "markdown",
   "metadata": {},
   "source": [
    "이번엔 pip 입력한 경우, 이전과 다르게 py36 환경의 pip에 깔리는 것을 알 수 있다.\n",
    "한편, pip2 와 pip3 는 이전과 동일하게 local pip 에 들어가게되는 것을 알 수 있다.\n",
    "\n",
    "즉, 가상환경 내에서만 패키지를 설치하려면, 그냥 pip install ~ 만 해야한다.\n",
    "(혹여나 헷갈려서 pip3 install 로 하게되면, 그냥 전역 local에 깔리는 것이다 ;;;)\n"
   ]
  },
  {
   "cell_type": "markdown",
   "metadata": {},
   "source": [
    "3. conda install vs pip install"
   ]
  },
  {
   "cell_type": "markdown",
   "metadata": {},
   "source": [
    "conda install 은 현재 가상환경에만 패키지를 설치한다. pip도 동일하다.\n",
    "\n",
    "예를 들어,"
   ]
  },
  {
   "cell_type": "markdown",
   "metadata": {},
   "source": [
    "$ (py36) conda env list   # conda environments:  #  base /Users/heumsi/anaconda3 py36 * /Users/heumsi/anaconda3/envs/py36"
   ]
  },
  {
   "cell_type": "markdown",
   "metadata": {},
   "source": [
    "현재 가상환경은 py36 이고, 이 상태에서 아래와 같이 입력하면,\n",
    "\n",
    "Py36 에만 jupyter 가 설치되고, 그 외 다른 환경(여기서는 base) 에는 설치되지 않는다.\n",
    "\n",
    "즉, 일반적으로 원하는 패키지를 현재 환경에만 설치하기 위해, conda install 로 하나 pip install 로 하나 상관없다.\n",
    "\n",
    "(내 경험상 conda 보다 pip 가 더 빠른 경우가 많았는데, pip 로 하면 conda 와 다른 점이 있을까하는 궁금점이 있었다.)"
   ]
  }
 ],
 "metadata": {
  "kernelspec": {
   "display_name": "Python 3",
   "language": "python",
   "name": "python3"
  },
  "language_info": {
   "codemirror_mode": {
    "name": "ipython",
    "version": 3
   },
   "file_extension": ".py",
   "mimetype": "text/x-python",
   "name": "python",
   "nbconvert_exporter": "python",
   "pygments_lexer": "ipython3",
   "version": "3.7.3"
  }
 },
 "nbformat": 4,
 "nbformat_minor": 2
}
